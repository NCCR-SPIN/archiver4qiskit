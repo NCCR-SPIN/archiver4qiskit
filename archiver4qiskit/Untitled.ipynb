{
 "cells": [
  {
   "cell_type": "code",
   "execution_count": 1,
   "id": "ad17aa11",
   "metadata": {},
   "outputs": [],
   "source": [
    "import qiskit\n",
    "\n",
    "from qiskitarchiver import *\n",
    "\n",
    "from qiskit import QuantumCircuit\n",
    "\n",
    "qc = qiskit.QuantumCircuit(1,1)\n",
    "#qc.h(0)\n",
    "qc.measure(0,0)\n",
    "\n",
    "archive_id = submit_job('aer_simulator',qc)"
   ]
  },
  {
   "cell_type": "code",
   "execution_count": null,
   "id": "2c35efb6",
   "metadata": {},
   "outputs": [],
   "source": [
    "archive = get_archive(archive_id)"
   ]
  },
  {
   "cell_type": "code",
   "execution_count": null,
   "id": "7c3da89c",
   "metadata": {},
   "outputs": [],
   "source": [
    "archive.result().get_counts()"
   ]
  },
  {
   "cell_type": "code",
   "execution_count": null,
   "id": "6b63a5f0",
   "metadata": {},
   "outputs": [],
   "source": [
    "archive = get_archive(archive_id)"
   ]
  },
  {
   "cell_type": "code",
   "execution_count": null,
   "id": "cc8d9256",
   "metadata": {},
   "outputs": [],
   "source": [
    "archive.backend.name()"
   ]
  },
  {
   "cell_type": "code",
   "execution_count": null,
   "id": "c2a22d6c",
   "metadata": {},
   "outputs": [],
   "source": []
  }
 ],
 "metadata": {
  "kernelspec": {
   "display_name": "Python 3",
   "language": "python",
   "name": "python3"
  },
  "language_info": {
   "codemirror_mode": {
    "name": "ipython",
    "version": 3
   },
   "file_extension": ".py",
   "mimetype": "text/x-python",
   "name": "python",
   "nbconvert_exporter": "python",
   "pygments_lexer": "ipython3",
   "version": "3.9.1"
  }
 },
 "nbformat": 4,
 "nbformat_minor": 5
}
